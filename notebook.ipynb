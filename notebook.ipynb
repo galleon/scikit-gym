{
 "cells": [
  {
   "cell_type": "code",
   "execution_count": null,
   "metadata": {
    "id": "IKyurnIXMOd_"
   },
   "outputs": [],
   "source": [
    "%load_ext autoreload\n",
    "%autoreload 2"
   ]
  },
  {
   "cell_type": "markdown",
   "metadata": {
    "id": "zN7J44bs46RH"
   },
   "source": [
    "# GYM ENV"
   ]
  },
  {
   "cell_type": "code",
   "execution_count": null,
   "metadata": {
    "colab": {
     "base_uri": "https://localhost:8080/"
    },
    "id": "vp6ZkAQk4nQ0",
    "outputId": "635043d4-0782-49ab-fef4-db6b80721a64"
   },
   "outputs": [],
   "source": [
    "%%timeit\n",
    "import sys\n",
    "\n",
    "try:\n",
    "  from skdecide import DeterministicPlanningDomain\n",
    "except ImportError:\n",
    "  !pip install scikit-decide\\[all\\]\n",
    "\n",
    "if 'google.colab'in sys.modules:\n",
    "  !sudo apt-get update\n",
    "  !apt-get install -y xvfb x11-utils \n",
    "  !pip install gym==0.17.* pyvirtualdisplay==0.2.* PyOpenGL==3.1.* PyOpenGL-accelerate==3.1.*"
   ]
  },
  {
   "cell_type": "code",
   "execution_count": null,
   "metadata": {
    "id": "CKaaPw7i42PY"
   },
   "outputs": [],
   "source": [
    "!rm -rf video\n",
    "!mkdir video"
   ]
  },
  {
   "cell_type": "code",
   "execution_count": null,
   "metadata": {
    "colab": {
     "base_uri": "https://localhost:8080/"
    },
    "id": "7_dfYyv0wdWT",
    "outputId": "ab7535cf-952b-4f96-ac38-1b7b0fd60bad"
   },
   "outputs": [],
   "source": [
    "import glob\n",
    "import io\n",
    "from base64 import b64encode\n",
    "\n",
    "from IPython.display import HTML\n",
    "from IPython import display as ipythondisplay\n",
    "\n",
    "from pyvirtualdisplay import Display\n",
    "\n",
    "from gym import make\n",
    "from gym.wrappers import Monitor\n",
    "\n",
    "from skdecide.hub.solver.stable_baselines import StableBaseline\n",
    "from skdecide.hub.domain.gym import GymDomain\n",
    "from skdecide.utils import rollout, match_solvers, load_registered_solver\n",
    "\n",
    "from stable_baselines3 import PPO\n",
    "\n",
    "# Create a Display\n",
    "display = Display(visible=0, size=(1368, 768))\n",
    "display.start()\n",
    "\n",
    "# Create a Domain factory made of a GYM environment which is itself embedded in\n",
    "# a monitoring wrapper\n",
    "domain_factory = lambda: GymDomain(Monitor(make('MountainCarContinuous-v0'), \"video\", force=True))\n",
    "\n",
    "# Create a Sover factory\n",
    "solver_factory = lambda: StableBaseline(PPO, 'MlpPolicy', learn_config={'total_timesteps': 50000})\n",
    "\n",
    "with solver_factory() as solver:\n",
    "    # The solver is launched for calculating a policy\n",
    "    GymDomain.solve_with(solver, domain_factory)\n",
    "    # create a domain wrapped in a monitor for recording during rollout\n",
    "    domain = domain_factory()\n",
    "    # The rollout function will execute the found policy and render iterations\n",
    "    try:\n",
    "        rollout(domain, solver, num_episodes=1, max_steps=1000, max_framerate=None, outcome_formatter=None)\n",
    "    finally:\n",
    "        domain.close()"
   ]
  },
  {
   "cell_type": "code",
   "execution_count": null,
   "metadata": {
    "colab": {
     "base_uri": "https://localhost:8080/",
     "height": 420
    },
    "id": "dXfF77257zVv",
    "outputId": "3364636d-197b-4003-a9df-7268a147e5c8"
   },
   "outputs": [],
   "source": [
    "videofilename = glob.glob(\"video/openaigym.video.*.video000000.mp4\")[0]\n",
    "with open(videofilename,'rb') as mp4:\n",
    "  data_url = \"data:video/mp4;base64,\" + b64encode(mp4.read()).decode()\n",
    "ipythondisplay.display(HTML(f\"<video alt='solution movie' controls autoplay preload'><source src='{data_url}' type='video/mp4'></video>\"))"
   ]
  },
  {
   "cell_type": "code",
   "execution_count": null,
   "metadata": {
    "id": "JXVA8ClO8C3z"
   },
   "outputs": [],
   "source": []
  }
 ],
 "metadata": {
  "accelerator": "GPU",
  "colab": {
   "collapsed_sections": [],
   "name": "notebook.ipynb",
   "provenance": []
  },
  "kernelspec": {
   "display_name": "Python 3",
   "language": "python",
   "name": "python3"
  },
  "language_info": {
   "codemirror_mode": {
    "name": "ipython",
    "version": 3
   },
   "file_extension": ".py",
   "mimetype": "text/x-python",
   "name": "python",
   "nbconvert_exporter": "python",
   "pygments_lexer": "ipython3",
   "version": "3.7.10"
  },
  "toc": {
   "base_numbering": 1,
   "nav_menu": {},
   "number_sections": true,
   "sideBar": true,
   "skip_h1_title": false,
   "title_cell": "Table of Contents",
   "title_sidebar": "Contents",
   "toc_cell": false,
   "toc_position": {},
   "toc_section_display": true,
   "toc_window_display": false
  }
 },
 "nbformat": 4,
 "nbformat_minor": 4
}
